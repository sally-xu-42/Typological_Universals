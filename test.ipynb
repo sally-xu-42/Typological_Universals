{
 "cells": [
  {
   "cell_type": "code",
   "execution_count": 3,
   "metadata": {},
   "outputs": [],
   "source": [
    "import tensorflow as tf\n",
    "import tensorflow_datasets as tfds\n",
    "import re\n",
    "import os"
   ]
  },
  {
   "cell_type": "code",
   "execution_count": 12,
   "metadata": {},
   "outputs": [],
   "source": [
    "os.makedirs(\"./data/wiki40b-txt/\")"
   ]
  },
  {
   "cell_type": "code",
   "execution_count": 8,
   "metadata": {},
   "outputs": [],
   "source": [
    "lang_code = \"en\"\n",
    "r1 = \"_START_ARTICLE_\\n[^_]*\"\n",
    "r2 = \"_START_PARAGRAPH_\\n\"\n",
    "r3 = \"_START_SECTION_\\n[^_]*\"\n",
    "r4 = \"_NEWLINE_\"\n",
    "\n",
    "REGEX = re.compile(f\"({r1}|{r2}|{r3}|{r4})\")"
   ]
  },
  {
   "cell_type": "markdown",
   "metadata": {},
   "source": [
    "## Generating txt files from the Wiki-40b dataset"
   ]
  },
  {
   "cell_type": "code",
   "execution_count": 9,
   "metadata": {},
   "outputs": [],
   "source": [
    "def process_tf_dataset(ds, num_tokens, output_file):\n",
    "    # Turn to a numpy df so that we can easily extract text\n",
    "    # numpy_items = tfds.as_numpy(ds)\n",
    "    token_count = 0\n",
    "\n",
    "    with open(output_file, \"a\") as f:\n",
    "        for batch in ds.as_numpy_iterator():\n",
    "            # text is the feature we want to extract\n",
    "            for item in batch.get(\"text\"):\n",
    "                text = item.decode(\"UTF-8\")\n",
    "                text = re.sub(REGEX, \" \", text)\n",
    "                text = re.sub(\"\\s+\", \" \", text).strip()\n",
    "                f.write(text)\n",
    "                f.write(\"\\n\")\n",
    "                token_count += len(text.split())\n",
    "                if num_tokens > 0 and token_count > num_tokens:\n",
    "                    break"
   ]
  },
  {
   "cell_type": "code",
   "execution_count": 20,
   "metadata": {},
   "outputs": [],
   "source": [
    "# load from validation split of the wiki-40b dataset, which has 163597 entries.\n",
    "# Don't run repeatedly once you loaded.\n",
    "ds = tfds.load(\n",
    "    f\"wiki40b/{lang_code}\",\n",
    "    split=\"train\",\n",
    "    shuffle_files=True,\n",
    "    data_dir=\"./data/\",\n",
    "    batch_size=128,\n",
    ")"
   ]
  },
  {
   "cell_type": "code",
   "execution_count": 21,
   "metadata": {},
   "outputs": [
    {
     "name": "stderr",
     "output_type": "stream",
     "text": [
      "2023-07-18 23:14:18.518598: I tensorflow/core/common_runtime/executor.cc:1197] [/device:CPU:0] (DEBUG INFO) Executor start aborting (this does not indicate an error and you can ignore this message): INVALID_ARGUMENT: You must feed a value for placeholder tensor 'Placeholder/_0' with dtype string and shape [128]\n",
      "\t [[{{node Placeholder/_0}}]]\n",
      "2023-07-18 23:14:18.519921: I tensorflow/core/common_runtime/executor.cc:1197] [/device:CPU:0] (DEBUG INFO) Executor start aborting (this does not indicate an error and you can ignore this message): INVALID_ARGUMENT: You must feed a value for placeholder tensor 'Placeholder/_2' with dtype string and shape [128]\n",
      "\t [[{{node Placeholder/_2}}]]\n"
     ]
    }
   ],
   "source": [
    "# generating pure txt file for train split in wiki-40b\n",
    "process_tf_dataset(\n",
    "    ds, -1, \"./data/wiki40b-txt/\" + lang_code + \".train\"\n",
    ")"
   ]
  },
  {
   "cell_type": "code",
   "execution_count": 18,
   "metadata": {},
   "outputs": [],
   "source": [
    "# don't know why changing the split matters\n",
    "ds = tfds.load(\n",
    "    f\"wiki40b/{lang_code}\",\n",
    "    split=\"test\",\n",
    "    shuffle_files=True,\n",
    "    data_dir=\"./data/\",\n",
    "    batch_size=128,\n",
    ")"
   ]
  },
  {
   "cell_type": "code",
   "execution_count": null,
   "metadata": {},
   "outputs": [],
   "source": [
    "process_tf_dataset(\n",
    "    ds, -1, \"./data/wiki40b-txt/\" + lang_code + \".test\"\n",
    ")"
   ]
  },
  {
   "cell_type": "code",
   "execution_count": null,
   "metadata": {},
   "outputs": [],
   "source": [
    "ds = tfds.load(\n",
    "    f\"wiki40b/{lang_code}\",\n",
    "    split=\"validation\",\n",
    "    shuffle_files=True,\n",
    "    data_dir=\"./data/\",\n",
    "    batch_size=128,\n",
    ")"
   ]
  },
  {
   "cell_type": "code",
   "execution_count": null,
   "metadata": {},
   "outputs": [],
   "source": [
    "process_tf_dataset(\n",
    "    ds, -1, \"./data/wiki40b-txt/\" + lang_code + \".validation\"\n",
    ")\n",
    "# why this has so many entries?\n",
    "# 3 and 300 have same results, but -1 a lot more."
   ]
  },
  {
   "cell_type": "code",
   "execution_count": 22,
   "metadata": {},
   "outputs": [],
   "source": [
    "dirname = os.path.dirname(\"wiki40b-txt/\")"
   ]
  },
  {
   "cell_type": "code",
   "execution_count": 23,
   "metadata": {},
   "outputs": [
    {
     "data": {
      "text/plain": [
       "'wiki40b-txt'"
      ]
     },
     "execution_count": 23,
     "metadata": {},
     "output_type": "execute_result"
    }
   ],
   "source": [
    "dirname"
   ]
  },
  {
   "cell_type": "code",
   "execution_count": null,
   "metadata": {},
   "outputs": [],
   "source": [
    "Ichijō Fuyuyoshi (一条 冬良, July 29, 1465 – April 21, 1514), son of regent Kaneyoshi, was a kugyō or court noble of the Muromachi period (1336–1573) of Japan. He held a regent position kampaku two times from 1488 to 1493 and from 1497 to 1501. He adopted Fusamichi as son who was also his daughter's husband."
   ]
  },
  {
   "cell_type": "markdown",
   "metadata": {},
   "source": [
    "## Testing training a BPETokenizer from scratch on different languages"
   ]
  },
  {
   "cell_type": "code",
   "execution_count": 1,
   "metadata": {},
   "outputs": [
    {
     "name": "stderr",
     "output_type": "stream",
     "text": [
      "/Users/sally/Desktop/Thesis_readings/Typological_Universal_BabyLM/venv/lib/python3.8/site-packages/tqdm/auto.py:21: TqdmWarning: IProgress not found. Please update jupyter and ipywidgets. See https://ipywidgets.readthedocs.io/en/stable/user_install.html\n",
      "  from .autonotebook import tqdm as notebook_tqdm\n"
     ]
    }
   ],
   "source": [
    "import argparse\n",
    "import os\n",
    "\n",
    "from tokenizers import AddedToken\n",
    "from tokenizers.implementations import ByteLevelBPETokenizer\n",
    "from transformers import AutoTokenizer"
   ]
  },
  {
   "cell_type": "code",
   "execution_count": 3,
   "metadata": {},
   "outputs": [],
   "source": [
    "sample = {\n",
    "    \"en\": \"Hello, y'all! How are you 😁? (just testing the tokenizer)\",\n",
    "    \"ja\": \"おやすみなさい\",\n",
    "    \"it\": \"Stiamo cercando una gioielleria.\",\n",
    "    \"ja_en\": \"おやすみなさい\"\n",
    "             \"Hello, y'all! How are you 😁? (just testing the tokenizer)\",\n",
    "    \"it_en\": \"Stiamo cercando una gioielleria.\"\n",
    "             \"Hello, y'all! How are you 😁? (just testing the tokenizer)\",\n",
    "}"
   ]
  },
  {
   "cell_type": "code",
   "execution_count": 4,
   "metadata": {},
   "outputs": [],
   "source": [
    "def train_tokenizer():\n",
    "\n",
    "    bpe_tokenizer = ByteLevelBPETokenizer()\n",
    "\n",
    "    files = [f\"./data/wiki40b-txt/en.small\"]\n",
    "\n",
    "    bpe_tokenizer.train(files=files, vocab_size=32000, min_frequency=2)\n",
    "\n",
    "    tokenizer_path = f'./data/tokenizer/en'\n",
    "    if not os.path.exists(tokenizer_path):\n",
    "        os.makedirs(tokenizer_path)\n",
    "\n",
    "    # save the vocab.json and merges.txt files of the trained bpe tokenizer\n",
    "    bpe_tokenizer.save_model(tokenizer_path)\n",
    "\n",
    "    model_tokenizer = AutoTokenizer.from_pretrained(tokenizer_path, tokenizer_type=\"gpt2\")\n",
    "    model_tokenizer.model_max_length = 512\n",
    "    model_tokenizer.add_special_tokens({\"pad_token\": AddedToken(\"<pad>\", normalized=True)})\n",
    "\n",
    "    print(f'Tokenizer vocab size: {len(model_tokenizer)}')\n",
    "    print(f'Tokenizer max sequence length: {model_tokenizer.model_max_length} \\n')\n",
    "\n",
    "    # save the full model tokenizer configuration files\n",
    "    model_tokenizer.save_pretrained(tokenizer_path)\n",
    "\n",
    "    output = model_tokenizer.encode_plus(sample[\"en\"])\n",
    "    print(output.tokens(), '\\n')"
   ]
  },
  {
   "cell_type": "code",
   "execution_count": 5,
   "metadata": {},
   "outputs": [
    {
     "name": "stdout",
     "output_type": "stream",
     "text": [
      "\n",
      "\n",
      "\n"
     ]
    },
    {
     "name": "stderr",
     "output_type": "stream",
     "text": [
      "Special tokens have been added in the vocabulary, make sure the associated word embeddings are fine-tuned or trained.\n"
     ]
    },
    {
     "name": "stdout",
     "output_type": "stream",
     "text": [
      "Tokenizer vocab size: 32002\n",
      "Tokenizer max sequence length: 512 \n",
      "\n",
      "['H', 'ello', ',', 'Ġy', \"'\", 'all', '!', 'ĠHow', 'Ġare', 'Ġyou', 'Ġ', 'ð', 'Ł', 'ĺ', 'ģ', '?', 'Ġ(', 'just', 'Ġtesting', 'Ġthe', 'Ġto', 'ken', 'izer', ')'] \n",
      "\n"
     ]
    }
   ],
   "source": [
    "train_tokenizer()"
   ]
  }
 ],
 "metadata": {
  "kernelspec": {
   "display_name": "universals",
   "language": "python",
   "name": "python3"
  },
  "language_info": {
   "codemirror_mode": {
    "name": "ipython",
    "version": 3
   },
   "file_extension": ".py",
   "mimetype": "text/x-python",
   "name": "python",
   "nbconvert_exporter": "python",
   "pygments_lexer": "ipython3",
   "version": "3.8.2"
  },
  "orig_nbformat": 4
 },
 "nbformat": 4,
 "nbformat_minor": 2
}
