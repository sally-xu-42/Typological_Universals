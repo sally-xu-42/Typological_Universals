{
 "cells": [
  {
   "cell_type": "code",
   "execution_count": 11,
   "metadata": {},
   "outputs": [],
   "source": [
    "import tensorflow as tf\n",
    "import tensorflow_datasets as tfds\n",
    "import re\n",
    "import os"
   ]
  },
  {
   "cell_type": "code",
   "execution_count": 12,
   "metadata": {},
   "outputs": [],
   "source": [
    "os.makedirs(\"./data/wiki40b-txt/\")"
   ]
  },
  {
   "cell_type": "code",
   "execution_count": 8,
   "metadata": {},
   "outputs": [],
   "source": [
    "lang_code = \"en\"\n",
    "r1 = \"_START_ARTICLE_\\n[^_]*\"\n",
    "r2 = \"_START_PARAGRAPH_\\n\"\n",
    "r3 = \"_START_SECTION_\\n[^_]*\"\n",
    "r4 = \"_NEWLINE_\"\n",
    "\n",
    "REGEX = re.compile(f\"({r1}|{r2}|{r3}|{r4})\")"
   ]
  },
  {
   "cell_type": "markdown",
   "metadata": {},
   "source": [
    "## Generating txt files from the Wiki-40b dataset"
   ]
  },
  {
   "cell_type": "code",
   "execution_count": 9,
   "metadata": {},
   "outputs": [],
   "source": [
    "def process_tf_dataset(ds, num_tokens, output_file):\n",
    "    # Turn to a numpy df so that we can easily extract text\n",
    "    # numpy_items = tfds.as_numpy(ds)\n",
    "    token_count = 0\n",
    "\n",
    "    with open(output_file, \"a\") as f:\n",
    "        for batch in ds.as_numpy_iterator():\n",
    "            # text is the feature we want to extract\n",
    "            for item in batch.get(\"text\"):\n",
    "                text = item.decode(\"UTF-8\")\n",
    "                text = re.sub(REGEX, \" \", text)\n",
    "                text = re.sub(\"\\s+\", \" \", text).strip()\n",
    "                f.write(text)\n",
    "                f.write(\"\\n\")\n",
    "                token_count += len(text.split())\n",
    "                if num_tokens > 0 and token_count > num_tokens:\n",
    "                    break"
   ]
  },
  {
   "cell_type": "code",
   "execution_count": 20,
   "metadata": {},
   "outputs": [],
   "source": [
    "# load from validation split of the wiki-40b dataset, which has 163597 entries.\n",
    "# Don't run repeatedly once you loaded.\n",
    "ds = tfds.load(\n",
    "    f\"wiki40b/{lang_code}\",\n",
    "    split=\"train\",\n",
    "    shuffle_files=True,\n",
    "    data_dir=\"./data/\",\n",
    "    batch_size=128,\n",
    ")"
   ]
  },
  {
   "cell_type": "code",
   "execution_count": 21,
   "metadata": {},
   "outputs": [
    {
     "name": "stderr",
     "output_type": "stream",
     "text": [
      "2023-07-18 23:14:18.518598: I tensorflow/core/common_runtime/executor.cc:1197] [/device:CPU:0] (DEBUG INFO) Executor start aborting (this does not indicate an error and you can ignore this message): INVALID_ARGUMENT: You must feed a value for placeholder tensor 'Placeholder/_0' with dtype string and shape [128]\n",
      "\t [[{{node Placeholder/_0}}]]\n",
      "2023-07-18 23:14:18.519921: I tensorflow/core/common_runtime/executor.cc:1197] [/device:CPU:0] (DEBUG INFO) Executor start aborting (this does not indicate an error and you can ignore this message): INVALID_ARGUMENT: You must feed a value for placeholder tensor 'Placeholder/_2' with dtype string and shape [128]\n",
      "\t [[{{node Placeholder/_2}}]]\n"
     ]
    }
   ],
   "source": [
    "# generating pure txt file for train split in wiki-40b\n",
    "process_tf_dataset(\n",
    "    ds, -1, \"./data/wiki40b-txt/\" + lang_code + \".train\"\n",
    ")"
   ]
  },
  {
   "cell_type": "code",
   "execution_count": 18,
   "metadata": {},
   "outputs": [],
   "source": [
    "# don't know why changing the split matters\n",
    "ds = tfds.load(\n",
    "    f\"wiki40b/{lang_code}\",\n",
    "    split=\"test\",\n",
    "    shuffle_files=True,\n",
    "    data_dir=\"./data/\",\n",
    "    batch_size=128,\n",
    ")"
   ]
  },
  {
   "cell_type": "code",
   "execution_count": null,
   "metadata": {},
   "outputs": [],
   "source": [
    "process_tf_dataset(\n",
    "    ds, -1, \"./data/wiki40b-txt/\" + lang_code + \".test\"\n",
    ")"
   ]
  },
  {
   "cell_type": "code",
   "execution_count": null,
   "metadata": {},
   "outputs": [],
   "source": [
    "ds = tfds.load(\n",
    "    f\"wiki40b/{lang_code}\",\n",
    "    split=\"validation\",\n",
    "    shuffle_files=True,\n",
    "    data_dir=\"./data/\",\n",
    "    batch_size=128,\n",
    ")"
   ]
  },
  {
   "cell_type": "code",
   "execution_count": null,
   "metadata": {},
   "outputs": [],
   "source": [
    "process_tf_dataset(\n",
    "    ds, -1, \"./data/wiki40b-txt/\" + lang_code + \".validation\"\n",
    ")\n",
    "# why this has so many entries?\n",
    "# 3 and 300 have same results, but -1 a lot more."
   ]
  },
  {
   "cell_type": "code",
   "execution_count": 22,
   "metadata": {},
   "outputs": [],
   "source": [
    "dirname = os.path.dirname(\"wiki40b-txt/\")"
   ]
  },
  {
   "cell_type": "code",
   "execution_count": 23,
   "metadata": {},
   "outputs": [
    {
     "data": {
      "text/plain": [
       "'wiki40b-txt'"
      ]
     },
     "execution_count": 23,
     "metadata": {},
     "output_type": "execute_result"
    }
   ],
   "source": [
    "dirname"
   ]
  },
  {
   "cell_type": "code",
   "execution_count": null,
   "metadata": {},
   "outputs": [],
   "source": []
  }
 ],
 "metadata": {
  "kernelspec": {
   "display_name": "universals",
   "language": "python",
   "name": "python3"
  },
  "language_info": {
   "codemirror_mode": {
    "name": "ipython",
    "version": 3
   },
   "file_extension": ".py",
   "mimetype": "text/x-python",
   "name": "python",
   "nbconvert_exporter": "python",
   "pygments_lexer": "ipython3",
   "version": "3.9.17"
  },
  "orig_nbformat": 4
 },
 "nbformat": 4,
 "nbformat_minor": 2
}
